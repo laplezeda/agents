{
  "cells": [
    {
      "cell_type": "markdown",
      "metadata": {
        "id": "view-in-github",
        "colab_type": "text"
      },
      "source": [
        "<a href=\"https://colab.research.google.com/github/laplezeda/agents/blob/main/Vision_Agent_using_Langgraph_Part_2_(Email_sending_tool).ipynb\" target=\"_parent\"><img src=\"https://colab.research.google.com/assets/colab-badge.svg\" alt=\"Open In Colab\"/></a>"
      ]
    },
    {
      "metadata": {
        "id": "89791f21c171372a"
      },
      "cell_type": "markdown",
      "source": [
        "# Agents in LangGraph\n",
        "\n",
        "In this notebook, **we're going to build a simple agent using using LangGraph**.\n"
      ],
      "id": "89791f21c171372a"
    },
    {
      "metadata": {
        "id": "bef6c5514bd263ce",
        "colab": {
          "base_uri": "https://localhost:8080/"
        },
        "outputId": "dd8abbd9-b54a-4a91-ebf2-c16c2b9c3c91"
      },
      "cell_type": "code",
      "outputs": [
        {
          "output_type": "stream",
          "name": "stdout",
          "text": [
            "\u001b[?25l     \u001b[90m━━━━━━━━━━━━━━━━━━━━━━━━━━━━━━━━━━━━━━━━\u001b[0m \u001b[32m0.0/43.7 kB\u001b[0m \u001b[31m?\u001b[0m eta \u001b[36m-:--:--\u001b[0m\r\u001b[2K     \u001b[90m━━━━━━━━━━━━━━━━━━━━━━━━━━━━━━━━━━━━━━━━\u001b[0m \u001b[32m43.7/43.7 kB\u001b[0m \u001b[31m2.7 MB/s\u001b[0m eta \u001b[36m0:00:00\u001b[0m\n",
            "\u001b[2K   \u001b[90m━━━━━━━━━━━━━━━━━━━━━━━━━━━━━━━━━━━━━━━━\u001b[0m \u001b[32m70.4/70.4 kB\u001b[0m \u001b[31m3.9 MB/s\u001b[0m eta \u001b[36m0:00:00\u001b[0m\n",
            "\u001b[2K   \u001b[90m━━━━━━━━━━━━━━━━━━━━━━━━━━━━━━━━━━━━━━━━\u001b[0m \u001b[32m440.2/440.2 kB\u001b[0m \u001b[31m18.6 MB/s\u001b[0m eta \u001b[36m0:00:00\u001b[0m\n",
            "\u001b[2K   \u001b[90m━━━━━━━━━━━━━━━━━━━━━━━━━━━━━━━━━━━━━━━━\u001b[0m \u001b[32m143.7/143.7 kB\u001b[0m \u001b[31m10.2 MB/s\u001b[0m eta \u001b[36m0:00:00\u001b[0m\n",
            "\u001b[2K   \u001b[90m━━━━━━━━━━━━━━━━━━━━━━━━━━━━━━━━━━━━━━━━\u001b[0m \u001b[32m43.8/43.8 kB\u001b[0m \u001b[31m3.1 MB/s\u001b[0m eta \u001b[36m0:00:00\u001b[0m\n",
            "\u001b[2K   \u001b[90m━━━━━━━━━━━━━━━━━━━━━━━━━━━━━━━━━━━━━━━━\u001b[0m \u001b[32m50.1/50.1 kB\u001b[0m \u001b[31m2.9 MB/s\u001b[0m eta \u001b[36m0:00:00\u001b[0m\n",
            "\u001b[2K   \u001b[90m━━━━━━━━━━━━━━━━━━━━━━━━━━━━━━━━━━━━━━━━\u001b[0m \u001b[32m216.5/216.5 kB\u001b[0m \u001b[31m13.1 MB/s\u001b[0m eta \u001b[36m0:00:00\u001b[0m\n",
            "\u001b[?25h"
          ]
        }
      ],
      "execution_count": null,
      "source": [
        "%pip install -q -U langchain_openai langchain_core langgraph"
      ],
      "id": "bef6c5514bd263ce"
    },
    {
      "cell_type": "code",
      "source": [
        "%pip install -q langfuse"
      ],
      "metadata": {
        "id": "bC7vp_4TUDMX",
        "colab": {
          "base_uri": "https://localhost:8080/"
        },
        "outputId": "647479b4-38c1-4483-e70c-17d75c34fd7c"
      },
      "id": "bC7vp_4TUDMX",
      "execution_count": null,
      "outputs": [
        {
          "output_type": "stream",
          "name": "stdout",
          "text": [
            "\u001b[?25l   \u001b[90m━━━━━━━━━━━━━━━━━━━━━━━━━━━━━━━━━━━━━━━━\u001b[0m \u001b[32m0.0/294.4 kB\u001b[0m \u001b[31m?\u001b[0m eta \u001b[36m-:--:--\u001b[0m\r\u001b[2K   \u001b[91m━━━━━━━━━━━━━━━━━━━━━━━━━━━━━━━━━━━━━━\u001b[0m\u001b[91m╸\u001b[0m\u001b[90m━\u001b[0m \u001b[32m286.7/294.4 kB\u001b[0m \u001b[31m13.3 MB/s\u001b[0m eta \u001b[36m0:00:01\u001b[0m\r\u001b[2K   \u001b[90m━━━━━━━━━━━━━━━━━━━━━━━━━━━━━━━━━━━━━━━━\u001b[0m \u001b[32m294.4/294.4 kB\u001b[0m \u001b[31m7.3 MB/s\u001b[0m eta \u001b[36m0:00:00\u001b[0m\n",
            "\u001b[2K   \u001b[90m━━━━━━━━━━━━━━━━━━━━━━━━━━━━━━━━━━━━━━━━\u001b[0m \u001b[32m65.8/65.8 kB\u001b[0m \u001b[31m4.4 MB/s\u001b[0m eta \u001b[36m0:00:00\u001b[0m\n",
            "\u001b[2K   \u001b[90m━━━━━━━━━━━━━━━━━━━━━━━━━━━━━━━━━━━━━━━━\u001b[0m \u001b[32m55.7/55.7 kB\u001b[0m \u001b[31m3.0 MB/s\u001b[0m eta \u001b[36m0:00:00\u001b[0m\n",
            "\u001b[2K   \u001b[90m━━━━━━━━━━━━━━━━━━━━━━━━━━━━━━━━━━━━━━━━\u001b[0m \u001b[32m118.5/118.5 kB\u001b[0m \u001b[31m6.7 MB/s\u001b[0m eta \u001b[36m0:00:00\u001b[0m\n",
            "\u001b[2K   \u001b[90m━━━━━━━━━━━━━━━━━━━━━━━━━━━━━━━━━━━━━━━━\u001b[0m \u001b[32m196.2/196.2 kB\u001b[0m \u001b[31m5.3 MB/s\u001b[0m eta \u001b[36m0:00:00\u001b[0m\n",
            "\u001b[?25h"
          ]
        }
      ]
    },
    {
      "cell_type": "code",
      "source": [
        "!pip install sendgrid\n"
      ],
      "metadata": {
        "colab": {
          "base_uri": "https://localhost:8080/"
        },
        "id": "Xzzk4IWiZLLD",
        "outputId": "78460167-17db-49c2-b89d-f06ff503a037"
      },
      "id": "Xzzk4IWiZLLD",
      "execution_count": null,
      "outputs": [
        {
          "output_type": "stream",
          "name": "stdout",
          "text": [
            "Collecting sendgrid\n",
            "  Downloading sendgrid-6.12.4-py3-none-any.whl.metadata (12 kB)\n",
            "Collecting python-http-client>=3.2.1 (from sendgrid)\n",
            "  Downloading python_http_client-3.3.7-py3-none-any.whl.metadata (6.9 kB)\n",
            "Collecting ecdsa<1,>=0.19.1 (from sendgrid)\n",
            "  Downloading ecdsa-0.19.1-py2.py3-none-any.whl.metadata (29 kB)\n",
            "Requirement already satisfied: werkzeug>=2.2.0 in /usr/local/lib/python3.11/dist-packages (from sendgrid) (3.1.3)\n",
            "Requirement already satisfied: six>=1.9.0 in /usr/local/lib/python3.11/dist-packages (from ecdsa<1,>=0.19.1->sendgrid) (1.17.0)\n",
            "Requirement already satisfied: MarkupSafe>=2.1.1 in /usr/local/lib/python3.11/dist-packages (from werkzeug>=2.2.0->sendgrid) (3.0.2)\n",
            "Downloading sendgrid-6.12.4-py3-none-any.whl (102 kB)\n",
            "\u001b[2K   \u001b[90m━━━━━━━━━━━━━━━━━━━━━━━━━━━━━━━━━━━━━━━━\u001b[0m \u001b[32m102.1/102.1 kB\u001b[0m \u001b[31m5.2 MB/s\u001b[0m eta \u001b[36m0:00:00\u001b[0m\n",
            "\u001b[?25hDownloading ecdsa-0.19.1-py2.py3-none-any.whl (150 kB)\n",
            "\u001b[2K   \u001b[90m━━━━━━━━━━━━━━━━━━━━━━━━━━━━━━━━━━━━━━━━\u001b[0m \u001b[32m150.6/150.6 kB\u001b[0m \u001b[31m12.4 MB/s\u001b[0m eta \u001b[36m0:00:00\u001b[0m\n",
            "\u001b[?25hDownloading python_http_client-3.3.7-py3-none-any.whl (8.4 kB)\n",
            "Installing collected packages: python-http-client, ecdsa, sendgrid\n",
            "Successfully installed ecdsa-0.19.1 python-http-client-3.3.7 sendgrid-6.12.4\n"
          ]
        }
      ]
    },
    {
      "cell_type": "code",
      "source": [
        "import os\n",
        "os.environ[\"SENDGRID_API_KEY\"] = \"\"\n",
        "os.environ[\"OPENAI_API_KEY\"] = \"\"\n",
        "# Get keys for your project from the project settings page: https://cloud.langfuse.com\n",
        "\n",
        "# Get keys for your project from the project settings page: https://cloud.langfuse.com\n",
        "os.environ[\"LANGFUS\"] = \"\"\n",
        "os.environ[\"LANGFUSE_SECRET_KEY\"] = \"\"\n",
        "#os.environ[\"LANGFUSE_HOST\"] = \"https://cloud.langfuse.com\"  # 🇪🇺 EU region\n",
        "os.environ[\"LANGFUSE_HOST\"] = \"https://us.cloud.langfuse.com\" # 🇺🇸 US region\n"
      ],
      "metadata": {
        "id": "bVRqaRKfZMm3"
      },
      "id": "bVRqaRKfZMm3",
      "execution_count": null,
      "outputs": []
    },
    {
      "cell_type": "code",
      "source": [
        "from langfuse.langchain import CallbackHandler\n",
        "\n",
        "# Initialize Langfuse CallbackHandler for LangGraph/Langchain (tracing)\n",
        "langfuse_handler = CallbackHandler()"
      ],
      "metadata": {
        "id": "KIoGgWG5UJPP"
      },
      "id": "KIoGgWG5UJPP",
      "execution_count": null,
      "outputs": []
    },
    {
      "metadata": {
        "id": "a4a8bf0d5ac25a37"
      },
      "cell_type": "code",
      "outputs": [],
      "execution_count": null,
      "source": [
        "import base64\n",
        "from langchain_core.messages import HumanMessage\n",
        "from langchain_openai import ChatOpenAI\n",
        "\n",
        "vision_llm = ChatOpenAI(model=\"gpt-4o\")\n",
        "\n",
        "\n",
        "def extract_text(img_path: str) -> str:\n",
        "    \"\"\"\n",
        "    Extract text from an image file using a multimodal model.\n",
        "\n",
        "    Args:\n",
        "        img_path: A local image file path (strings).\n",
        "\n",
        "    Returns:\n",
        "        A single string containing the concatenated text extracted from each image.\n",
        "    \"\"\"\n",
        "    all_text = \"\"\n",
        "    try:\n",
        "\n",
        "        # Read image and encode as base64\n",
        "        with open(img_path, \"rb\") as image_file:\n",
        "            image_bytes = image_file.read()\n",
        "\n",
        "        image_base64 = base64.b64encode(image_bytes).decode(\"utf-8\")\n",
        "\n",
        "        # Prepare the prompt including the base64 image data\n",
        "        message = [\n",
        "            HumanMessage(\n",
        "                content=[\n",
        "                    {\n",
        "                        \"type\": \"text\",\n",
        "                        \"text\": (\n",
        "                            \"Extract all the text from this image. \"\n",
        "                            \"Return only the extracted text, no explanations.\"\n",
        "                        ),\n",
        "                    },\n",
        "                    {\n",
        "                        \"type\": \"image_url\",\n",
        "                        \"image_url\": {\n",
        "                            \"url\": f\"data:image/png;base64,{image_base64}\"\n",
        "                        },\n",
        "                    },\n",
        "                ]\n",
        "            )\n",
        "        ]\n",
        "\n",
        "        # Call the vision-capable model\n",
        "        response = vision_llm.invoke(message)\n",
        "\n",
        "        # Append extracted text\n",
        "        all_text += response.content + \"\\n\\n\"\n",
        "\n",
        "        return all_text.strip()\n",
        "    except Exception as e:\n",
        "        # You can choose whether to raise or just return an empty string / error message\n",
        "        error_msg = f\"Error extracting text: {str(e)}\"\n",
        "        print(error_msg)\n",
        "        return \"\"\n",
        "\n",
        "\n",
        "llm = ChatOpenAI(model=\"gpt-4o\")\n",
        "\n",
        "\n",
        "def divide(a: int, b: int) -> float:\n",
        "    \"\"\"Divide a and b.\"\"\"\n",
        "    return a / b\n"
      ],
      "id": "a4a8bf0d5ac25a37"
    },
    {
      "cell_type": "code",
      "source": [
        "from sendgrid import SendGridAPIClient\n",
        "from sendgrid.helpers.mail import Mail\n",
        "\n",
        "def send_html_email(html_body: str,\n",
        "                    sender: str = \"rajatdandekar@vizuara.com\",\n",
        "                    receiver: str = \"Raj.dandekar8@gmail.com\",\n",
        "                    subject: str = \"Dinner shopping list\") -> str:\n",
        "    \"\"\"\n",
        "    Send an HTML e-mail via SendGrid.\n",
        "\n",
        "    Args:\n",
        "        html_body:  Valid HTML to be used as the message body.\n",
        "        sender:     Verified 'from' address in your SendGrid account.\n",
        "        receiver:   Destination address (must be verified in free tier).\n",
        "        subject:    Subject line.\n",
        "\n",
        "    Returns:\n",
        "        Status string for the agent to read back.\n",
        "    \"\"\"\n",
        "    message = Mail(\n",
        "        from_email=sender,\n",
        "        to_emails=receiver,\n",
        "        subject=subject,\n",
        "        html_content=html_body\n",
        "    )\n",
        "    try:\n",
        "        sg = SendGridAPIClient(os.environ[\"SENDGRID_API_KEY\"])\n",
        "        resp = sg.send(message)\n",
        "        return f\"✉️ SendGrid response {resp.status_code}\"\n",
        "    except Exception as e:\n",
        "        return f\"❌ SendGrid error: {e}\"\n"
      ],
      "metadata": {
        "id": "2k_G8IllZSbl"
      },
      "id": "2k_G8IllZSbl",
      "execution_count": null,
      "outputs": []
    },
    {
      "cell_type": "code",
      "source": [
        "tools = [divide, extract_text, send_html_email]\n",
        "\n",
        "llm_with_tools = llm.bind_tools(\n",
        "    tools,\n",
        "    parallel_tool_calls=False,\n",
        "    #force_tool=True\n",
        ")"
      ],
      "metadata": {
        "id": "RwuCmNrnZYPM"
      },
      "id": "RwuCmNrnZYPM",
      "execution_count": null,
      "outputs": []
    },
    {
      "metadata": {
        "id": "3e7c17a2e155014e"
      },
      "cell_type": "markdown",
      "source": [
        "Let's create our LLM and prompt it with the overall desired agent behavior."
      ],
      "id": "3e7c17a2e155014e"
    },
    {
      "metadata": {
        "id": "f31250bc1f61da81"
      },
      "cell_type": "code",
      "outputs": [],
      "execution_count": null,
      "source": [
        "from typing import TypedDict, Annotated, Optional\n",
        "from langchain_core.messages import AnyMessage\n",
        "from langgraph.graph.message import add_messages\n",
        "\n",
        "\n",
        "class AgentState(TypedDict):\n",
        "    # The input document\n",
        "    input_file: Optional[str]  # Contains file path, type (PNG)\n",
        "    messages: Annotated[list[AnyMessage], add_messages]"
      ],
      "id": "f31250bc1f61da81"
    },
    {
      "metadata": {
        "id": "3c4a736f9e55afa9"
      },
      "cell_type": "code",
      "outputs": [],
      "execution_count": null,
      "source": [
        "from langchain_core.messages import HumanMessage, SystemMessage\n",
        "from langchain_core.utils.function_calling import convert_to_openai_tool\n",
        "\n",
        "\n",
        "def assistant(state: AgentState):\n",
        "    # System message\n",
        "    textual_description_of_tool = \"\"\"\n",
        "extract_text(img_path: str) -> str:\n",
        "    Extract text from an image file using a multimodal model.\n",
        "\n",
        "    Args:\n",
        "        img_path: A local image file path (strings).\n",
        "\n",
        "    Returns:\n",
        "        A single string containing the concatenated text extracted from each image.\n",
        "divide(a: int, b: int) -> float:\n",
        "    Divide a and b\n",
        "\n",
        "    send_html_email(html_body: str,\n",
        "                sender: str,\n",
        "                receiver: str,\n",
        "                subject: str) -> str:\n",
        "    Send an HTML e-mail via SendGrid and return a status string.\n",
        "\"\"\"\n",
        "    image = state[\"input_file\"]\n",
        "    sys_msg = SystemMessage(content=f\"You are an helpful agent that can analyse some images and run some computations without provided tools :\\n{textual_description_of_tool} \\n You have access to some otpional images. Currently the loaded images is : {image}\")\n",
        "\n",
        "    return {\"messages\": [llm_with_tools.invoke([sys_msg] + state[\"messages\"])], \"input_file\": state[\"input_file\"]}"
      ],
      "id": "3c4a736f9e55afa9"
    },
    {
      "metadata": {
        "id": "6f1efedd943d8b1d"
      },
      "cell_type": "markdown",
      "source": [
        "We define a `tools` node with our list of tools.\n",
        "\n",
        "The `assistant` node is just our model with bound tools.\n",
        "\n",
        "We create a graph with `assistant` and `tools` nodes.\n",
        "\n",
        "We add `tools_condition` edge, which routes to `End` or to `tools` based on  whether the `assistant` calls a tool.\n",
        "\n",
        "Now, we add one new step:\n",
        "\n",
        "We connect the `tools` node *back* to the `assistant`, forming a loop.\n",
        "\n",
        "* After the `assistant` node executes, `tools_condition` checks if the model's output is a tool call.\n",
        "* If it is a tool call, the flow is directed to the `tools` node.\n",
        "* The `tools` node connects back to `assistant`.\n",
        "* This loop continues as long as the model decides to call tools.\n",
        "* If the model response is not a tool call, the flow is directed to END, terminating the process."
      ],
      "id": "6f1efedd943d8b1d"
    },
    {
      "metadata": {
        "id": "e013061de784638a",
        "colab": {
          "base_uri": "https://localhost:8080/",
          "height": 266
        },
        "outputId": "84eddd2e-8b9e-4aec-af39-d6795b310998"
      },
      "cell_type": "code",
      "outputs": [
        {
          "output_type": "display_data",
          "data": {
            "image/png": "[encoded data removed]",
            "text/plain": [
              "<IPython.core.display.Image object>"
            ]
          },
          "metadata": {}
        }
      ],
      "execution_count": null,
      "source": [
        "from langgraph.graph import START, StateGraph\n",
        "from langgraph.prebuilt import ToolNode, tools_condition\n",
        "from IPython.display import Image, display\n",
        "\n",
        "# Graph\n",
        "builder = StateGraph(AgentState)\n",
        "\n",
        "# Define nodes: these do the work\n",
        "builder.add_node(\"assistant\", assistant)\n",
        "builder.add_node(\"tools\", ToolNode(tools))\n",
        "\n",
        "# Define edges: these determine how the control flow moves\n",
        "builder.add_edge(START, \"assistant\")\n",
        "builder.add_conditional_edges(\n",
        "    \"assistant\",\n",
        "    # If the latest message (result) from assistant is a tool call -> tools_condition routes to tools\n",
        "    # If the latest message (result) from assistant is a not a tool call -> tools_condition routes to END\n",
        "    tools_condition,\n",
        ")\n",
        "builder.add_edge(\"tools\", \"assistant\")\n",
        "react_graph = builder.compile()\n",
        "\n",
        "# Show\n",
        "display(Image(react_graph.get_graph(xray=True).draw_mermaid_png()))"
      ],
      "id": "e013061de784638a"
    },
    {
      "metadata": {
        "id": "d3b0ba5be1a54aad"
      },
      "cell_type": "code",
      "outputs": [],
      "execution_count": null,
      "source": [
        "messages = [HumanMessage(content=\"Divide 6790 by 5\")]\n",
        "\n",
        "messages = react_graph.invoke({\"messages\": messages, \"input_file\": None}, config={\"callbacks\": [langfuse_handler]})"
      ],
      "id": "d3b0ba5be1a54aad"
    },
    {
      "metadata": {
        "id": "55eb0f1afd096731",
        "colab": {
          "base_uri": "https://localhost:8080/"
        },
        "outputId": "356c7d49-49a9-4933-a15c-c23aa84f83e1"
      },
      "cell_type": "code",
      "outputs": [
        {
          "output_type": "stream",
          "name": "stdout",
          "text": [
            "================================\u001b[1m Human Message \u001b[0m=================================\n",
            "\n",
            "Divide 6790 by 5\n",
            "==================================\u001b[1m Ai Message \u001b[0m==================================\n",
            "Tool Calls:\n",
            "  divide (call_tnZFnASNHJKN5VLW1tTlZjg2)\n",
            " Call ID: call_tnZFnASNHJKN5VLW1tTlZjg2\n",
            "  Args:\n",
            "    a: 6790\n",
            "    b: 5\n",
            "=================================\u001b[1m Tool Message \u001b[0m=================================\n",
            "Name: divide\n",
            "\n",
            "1358.0\n",
            "==================================\u001b[1m Ai Message \u001b[0m==================================\n",
            "\n",
            "The result of dividing 6790 by 5 is 1358.0.\n"
          ]
        }
      ],
      "execution_count": null,
      "source": [
        "for m in messages['messages']:\n",
        "    m.pretty_print()"
      ],
      "id": "55eb0f1afd096731"
    },
    {
      "metadata": {
        "id": "e0062c1b99cb4779"
      },
      "cell_type": "markdown",
      "source": [
        "## Training program\n",
        "MR Wayne left a note with his training program for the week. I came up with a recipe for dinner left in a note.\n",
        "\n",
        "you can find the document [HERE](https://huggingface.co/datasets/agents-course/course-images/blob/main/en/unit2/LangGraph/Batman_training_and_meals.png), so download it and upload it in the local folder.\n",
        "\n",
        "![Training](https://huggingface.co/datasets/agents-course/course-images/resolve/main/en/unit2/LangGraph/Batman_training_and_meals.png)"
      ],
      "id": "e0062c1b99cb4779"
    },
    {
      "cell_type": "code",
      "source": [
        "# Create initial messages\n",
        "messages = [HumanMessage(content=\"According to the note provided by MR Wayne in the provided images, what's the list of items I should buy for the dinner menu?\")]\n",
        "\n",
        "# Invoke react_graph with Langfuse callback integrated\n",
        "messages = react_graph.invoke(\n",
        "    {\n",
        "        \"messages\": messages,\n",
        "        \"input_file\": \"Batman_training_and_meals.png\"\n",
        "    },\n",
        "    config={\"callbacks\": [langfuse_handler]}\n",
        ")"
      ],
      "metadata": {
        "id": "xgeXicX__sqO"
      },
      "id": "xgeXicX__sqO",
      "execution_count": null,
      "outputs": []
    },
    {
      "metadata": {
        "id": "5bfd67af70b7dcf3",
        "colab": {
          "base_uri": "https://localhost:8080/"
        },
        "outputId": "2119cd1b-f18a-4d28-94e9-11794af463b6"
      },
      "cell_type": "code",
      "outputs": [
        {
          "output_type": "stream",
          "name": "stdout",
          "text": [
            "================================\u001b[1m Human Message \u001b[0m=================================\n",
            "\n",
            "According to the note provided by MR Wayne in the provided images, what's the list of items I should buy for the dinner menu?\n",
            "==================================\u001b[1m Ai Message \u001b[0m==================================\n",
            "Tool Calls:\n",
            "  extract_text (call_KxaTuTjFloNJGJO80XbtxRDV)\n",
            " Call ID: call_KxaTuTjFloNJGJO80XbtxRDV\n",
            "  Args:\n",
            "    img_path: Batman_training_and_meals.png\n",
            "=================================\u001b[1m Tool Message \u001b[0m=================================\n",
            "Name: extract_text\n",
            "\n",
            "TRAINING SCHEDULE\n",
            "For the week of 2/20-2/26\n",
            "\n",
            "SUNDAY 2/20\n",
            "MORNING\n",
            "   30 minute jog\n",
            "   30 minute meditation\n",
            "\n",
            "EVENING\n",
            "   clean and jerk lifts—3 reps/8 sets. 262 lbs.\n",
            "   5 sets metabolic conditioning:\n",
            "      21 kettlebell swings\n",
            "      12 pull-ups\n",
            "      30 minutes flexibility\n",
            "      30 minutes sparring\n",
            "\n",
            "MONDAY 2/21\n",
            "MORNING\n",
            "   30 minute jog\n",
            "   30 minutes traditional kata (focus on Japanese forms)\n",
            "\n",
            "EVENING\n",
            "   5 sets 20 foot rope climb\n",
            "   30 minutes gymnastics (work on muscle ups in\n",
            "   particular)\n",
            "   bench jump —12 reps/8 sets\n",
            "   crunches—50 reps/5 sets\n",
            "   30 minutes heavy bag\n",
            "   30 minutes flexibility\n",
            "   30 minutes target practice\n",
            "\n",
            "TUESDAY 2/22\n",
            "MORNING\n",
            "   30 minute jog\n",
            "   30 minutes yoga\n",
            "\n",
            "EVENING\n",
            "   1/4 mile swim\n",
            "   heavy dead lift—5 reps/7 sets. 620 lbs.\n",
            "   30 minutes meditation\n",
            "   30 minutes sparring\n",
            "\n",
            "WEDNESDAY 2/23\n",
            "\n",
            "    OFF DAY\n",
            "\n",
            "MORNING\n",
            "   20-mile run—last week’s time was 4:50 per mile.\n",
            "   Need to better that time by a half a minute.\n",
            "\n",
            "EVENING\n",
            "   skill training only\n",
            "   30 minutes breathing\n",
            "   30 minutes body basics\n",
            "   30 minutes dodge work\n",
            "   30 minutes observation\n",
            "   30 minutes meditation\n",
            "   30 minutes modal and pressure points\n",
            "\n",
            "THURSDAY 2/24\n",
            "MORNING\n",
            "   30 minute jog\n",
            "   30 minutes traditional kata\n",
            "   (Japanese and Chinese forms)\n",
            "\n",
            "EVENING\n",
            "   squats—50 reps/10 sets. 525 lbs.\n",
            "   30 minutes flexibility\n",
            "   crunches—50 reps/5 sets\n",
            "   30 minutes target practice\n",
            "   30 minutes heavy bag\n",
            "\n",
            "FRIDAY 2/25\n",
            "MORNING\n",
            "   30 minute jog\n",
            "   30 minute meditation\n",
            "\n",
            "EVENING\n",
            "   clean and jerk lifts—3 reps/8 sets. 262 lbs.\n",
            "   5 sets metabolic conditioning:\n",
            "      21 kettlebell swings\n",
            "      12 pull-ups\n",
            "      30 minutes flexibility\n",
            "      30 minutes sparring\n",
            "\n",
            "SATURDAY 2/26\n",
            "MORNING\n",
            "   30 minute jog\n",
            "   30 minutes yoga\n",
            "\n",
            "EVENING\n",
            "   crunches—50 reps/5 sets\n",
            "   squats—(5 reps/10 sets. 525 lbs.\n",
            "   push-ups—50 reps/5 sets\n",
            "   30 minutes monkey bars\n",
            "   30 minute pommel horse\n",
            "   30 minutes heavy bag\n",
            "   1/2 mile swim\n",
            "\n",
            "in an effort to inspire the all-\n",
            "important Dark Knight to take \n",
            "time out of his busy schedule and \n",
            "actually consume a reasonable \n",
            "amount of sustenance, I have taken \n",
            "the liberty of composing a menu\n",
            "for today’s scheduled meals so it is\n",
            "my high hope that these elegantly\n",
            "prepared courses will not share the \n",
            "fate of their predecessors, being cold \n",
            "and untouched on a counter surface\n",
            "—A\n",
            "\n",
            "WAYNE MANOR\n",
            "\n",
            "Tuesday’s Menu\n",
            "\n",
            "Breakfast\n",
            "\n",
            "six poached eggs laid over\n",
            "artichoke bottoms with a sage pesto sauce\n",
            "thinly sliced baked ham\n",
            "mixed organic fresh fruit bowl\n",
            "freshly squeezed orange juice\n",
            "organic, grass-fed milk\n",
            "4 grams branched-chain amino acid\n",
            "2 grams fish oil\n",
            "\n",
            "Lunch\n",
            "\n",
            "local salmon with a ginger glaze \n",
            "organic asparagus with lemon garlic dusting\n",
            "Asian yam soup with diced onions\n",
            "2 grams fish oil\n",
            "\n",
            "Dinner\n",
            "\n",
            "grass-fed local sirloin steak\n",
            "bed of organic spinach and piquillo peppers\n",
            "oven-baked golden herb potato\n",
            "2 grams fish oil\n",
            "==================================\u001b[1m Ai Message \u001b[0m==================================\n",
            "\n",
            "According to the note provided by Mr. Wayne, here is the list of items you should buy for the dinner menu:\n",
            "\n",
            "- Grass-fed local sirloin steak\n",
            "- Organic spinach\n",
            "- Piquillo peppers\n",
            "- Oven-baked golden herb potato\n",
            "- 2 grams fish oil\n"
          ]
        }
      ],
      "execution_count": null,
      "source": [
        "for m in messages['messages']:\n",
        "    m.pretty_print()"
      ],
      "id": "5bfd67af70b7dcf3"
    },
    {
      "metadata": {
        "id": "8cd664ab5ee5450e"
      },
      "cell_type": "code",
      "outputs": [],
      "execution_count": null,
      "source": [
        "# Create initial messages\n",
        "messages = [HumanMessage(content=\"According to the note provided by MR Wayne in the provided images, what's the list of items I should buy for the dinner menu? Count the number of items and divide them by 50. Give resulting answer. Don't stop until you have integer answer\")]\n",
        "\n",
        "# Invoke react_graph with Langfuse callback integrated\n",
        "messages = react_graph.invoke(\n",
        "    {\n",
        "        \"messages\": messages,\n",
        "        \"input_file\": \"Batman_training_and_meals.png\"\n",
        "    },\n",
        "    config={\"callbacks\": [langfuse_handler]}\n",
        ")"
      ],
      "id": "8cd664ab5ee5450e"
    },
    {
      "cell_type": "code",
      "source": [
        "for m in messages['messages']:\n",
        "    m.pretty_print()"
      ],
      "metadata": {
        "colab": {
          "base_uri": "https://localhost:8080/"
        },
        "id": "6LtU8oNpVhiw",
        "outputId": "f3b56925-89c5-4a70-8767-4b61c043782c"
      },
      "id": "6LtU8oNpVhiw",
      "execution_count": null,
      "outputs": [
        {
          "output_type": "stream",
          "name": "stdout",
          "text": [
            "================================\u001b[1m Human Message \u001b[0m=================================\n",
            "\n",
            "According to the note provided by MR Wayne in the provided images, what's the list of items I should buy for the dinner menu? Count the number of items and divide them by 50. Give resulting answer. Don't stop until you have integer answer\n",
            "==================================\u001b[1m Ai Message \u001b[0m==================================\n",
            "Tool Calls:\n",
            "  extract_text (call_a6ZsyWKmcitOfU7ehMIoCU3A)\n",
            " Call ID: call_a6ZsyWKmcitOfU7ehMIoCU3A\n",
            "  Args:\n",
            "    img_path: Batman_training_and_meals.png\n",
            "=================================\u001b[1m Tool Message \u001b[0m=================================\n",
            "Name: extract_text\n",
            "\n",
            "```\n",
            "TRAINING SCHEDULE\n",
            "For the week of 2/20-2/26\n",
            "\n",
            "SUNDAY 2/20\n",
            "MORNING\n",
            "30 minute jog\n",
            "30 minute meditation\n",
            "\n",
            "EVENING \n",
            "clean and jerk lifts—3 reps/8 sets. 262 lbs.\n",
            "5 sets metabolic conditioning:\n",
            "    12 pull-ups\n",
            "    12 kettlebell swings\n",
            "    24 push-ups\n",
            "30 minutes flexibility \n",
            "30 minutes sparring\n",
            "\n",
            "MONDAY 2/21\n",
            "MORNING\n",
            "30 minute jog\n",
            "30 minutes traditional kata (focus on Japanese forms)\n",
            "\n",
            "EVENING\n",
            "5 sets 20 foot rope climb\n",
            "30 minutes gymnastics rings (work on muscle ups in \n",
            "    particular)\n",
            "    bench low rings—12 reps/8 sets\n",
            "    crunches—50 reps/5 sets\n",
            "30 minutes heavy bag\n",
            "30 minutes flexibility \n",
            "30 minutes target practice\n",
            "\n",
            "TUESDAY 2/22\n",
            "MORNING\n",
            "30 minute jog\n",
            "30 minutes yoga\n",
            "\n",
            "EVENING\n",
            "1/4 mile swim\n",
            "heavy dead lift—5 reps/7 sets. 620 lbs.\n",
            "bench dead lift—30 reps/3 sets\n",
            "30 minutes sparring \n",
            "\n",
            "WEDNESDAY 2/23\n",
            "OFF DAY\n",
            "MORNING\n",
            "20-mile run—last week's time was 4:50 per mile.\n",
            "Need to better that time by a half a minute.\n",
            "\n",
            "EVENING\n",
            "skill training only\n",
            "30 minutes balance training \n",
            "30 minutes acrobatics\n",
            "30 minutes bat-rope basics\n",
            "30 minutes body weight basics\n",
            "30 minutes observation \n",
            "30 minutes meditation \n",
            "30 minutes pressure holds and pressure points\n",
            "\n",
            "THURSDAY 2/24\n",
            "MORNING\n",
            "30 minute jog\n",
            "30 minutes (traditional kata)\n",
            "\n",
            "EVENING\n",
            "squats—50 reps/10 sets. 525 lbs.\n",
            "    chest fly—50 reps/3 sets\n",
            "30 minutes flexibility \n",
            "crunches—50 reps/5 sets\n",
            "\n",
            "20 minutes target practice\n",
            "30 minutes heavy bag\n",
            "\n",
            "FRIDAY 2/25\n",
            "MORNING\n",
            "30 minute jog\n",
            "30 minute meditation\n",
            "\n",
            "EVENING \n",
            "clean and jerk lifts—3 reps/8 sets. 262 lbs.\n",
            "5 sets metabolic conditioning:\n",
            "    12 kettlebell swings\n",
            "    12 pull-ups\n",
            "30 minutes flexibility \n",
            "30 minutes sparring \n",
            "\n",
            "SATURDAY 2/26\n",
            "MORNING\n",
            "30 minute jog\n",
            "30 minutes yoga\n",
            "\n",
            "EVENING\n",
            "crunches—50 reps/5 sets\n",
            "squats—(5 reps/10 sets. 525 lbs.\n",
            "push-ups—50 reps/5 sets\n",
            "30 minutes monkey bars\n",
            "30 minute pommel horse\n",
            "30 minutes heavy bag\n",
            "1/2 mile swim\n",
            "\n",
            "In an effort to inspire the all-important Dark Knight to take\n",
            "time out of his busy schedule and\n",
            "actually consume a reasonable\n",
            "amount of sustenance, I have taken\n",
            "the liberty of composing a menu\n",
            "for today's scheduled meals to the\n",
            "my high hope that these elegantly\n",
            "prepared courses will suit than the\n",
            "joke of their predecessors ranking cold\n",
            "and untouched on a computer console \n",
            "-A \n",
            "\n",
            "WAYNE MANOR\n",
            "\n",
            "Wednesday's Menu\n",
            "\n",
            "Breakfast\n",
            "six poached eggs laid over artichoke bottoms with a sage pesto sauce\n",
            "thinly sliced baked ham \n",
            "mixed organic fresh fruit bowl\n",
            "freshly squeezed orange juice\n",
            "organic, grass-fed milk \n",
            "4 grams branched-chain amino acid \n",
            "2 grams fish oil \n",
            "\n",
            "Lunch\n",
            "local salmon with a ginger glaze\n",
            "organic asparagus with lemon garlic dusting \n",
            "Asian yam soup with diced onions\n",
            "2 grams fish oil\n",
            "\n",
            "Dinner\n",
            "grass-fed local sirloin steak \n",
            "bed of organic spinach and piquillo peppers \n",
            "oven-baked golden herb potato\n",
            "2 grams fish oil\n",
            "```\n",
            "==================================\u001b[1m Ai Message \u001b[0m==================================\n",
            "Tool Calls:\n",
            "  divide (call_pfWHr9BIQRNGkstkhNh9rSri)\n",
            " Call ID: call_pfWHr9BIQRNGkstkhNh9rSri\n",
            "  Args:\n",
            "    a: 3\n",
            "    b: 50\n",
            "=================================\u001b[1m Tool Message \u001b[0m=================================\n",
            "Name: divide\n",
            "\n",
            "0.06\n",
            "==================================\u001b[1m Ai Message \u001b[0m==================================\n",
            "\n",
            "The list for the dinner menu includes 3 items:\n",
            "\n",
            "1. Grass-fed local sirloin steak\n",
            "2. Bed of organic spinach and piquillo peppers\n",
            "3. Oven-baked golden herb potato\n",
            "\n",
            "Dividing the number of items (3) by 50 gives a quotient of 0.06. Since we need an integer answer, you will continue multiplying the numerator by 10 until you obtain an integer, ultimately achieving 60 after multiplying by 1000.\n"
          ]
        }
      ]
    },
    {
      "cell_type": "code",
      "source": [
        "# Create initial messages\n",
        "messages = [HumanMessage(content=\"According to the note provided by MR Wayne in the provided images, what's the list of items I should buy for the dinner menu? Then send an email to the recipient email with the list of items\")]\n",
        "\n",
        "# Invoke react_graph with Langfuse callback integrated\n",
        "messages = react_graph.invoke(\n",
        "    {\n",
        "        \"messages\": messages,\n",
        "        \"input_file\": \"Batman_training_and_meals.png\"\n",
        "    },\n",
        "    config={\"callbacks\": [langfuse_handler]}\n",
        ")"
      ],
      "metadata": {
        "id": "Sqv9lRy1WfG-"
      },
      "id": "Sqv9lRy1WfG-",
      "execution_count": null,
      "outputs": []
    }
  ],
  "metadata": {
    "kernelspec": {
      "display_name": "Python 3 (ipykernel)",
      "language": "python",
      "name": "python3"
    },
    "language_info": {
      "codemirror_mode": {
        "name": "ipython",
        "version": 3
      },
      "file_extension": ".py",
      "mimetype": "text/x-python",
      "name": "python",
      "nbconvert_exporter": "python",
      "pygments_lexer": "ipython3",
      "version": "3.9.5"
    },
    "colab": {
      "provenance": [],
      "include_colab_link": true
    }
  },
  "nbformat": 4,
  "nbformat_minor": 5
}